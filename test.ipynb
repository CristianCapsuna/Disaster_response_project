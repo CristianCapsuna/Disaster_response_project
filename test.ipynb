{
 "cells": [
  {
   "cell_type": "code",
   "execution_count": null,
   "metadata": {},
   "outputs": [],
   "source": [
    "# import numpy as np\n",
    "import pandas as pd\n",
    "from sqlalchemy import create_engine\n",
    "from sklearn.model_selection import train_test_split"
   ]
  },
  {
   "cell_type": "code",
   "execution_count": null,
   "metadata": {},
   "outputs": [],
   "source": [
    "def reduce_length(message:str):\n",
    "    list_of_words = message.split(\" \")\n",
    "    original_length = len(list_of_words)\n",
    "    if original_length > 150:\n",
    "        new_message = \"\"\n",
    "        for i in range(150):\n",
    "            new_message = new_message + list_of_words[i] + \" \"\n",
    "        new_message = new_message[:,-1]\n",
    "        return new_message\n",
    "    else:\n",
    "        return message\n",
    "\n",
    "engine = create_engine('sqlite:///IO_handling/Disaster_response_messenges.db')\n",
    "df = pd.read_sql('SELECT * FROM Disaster_response_messenges', con = engine)\n",
    "X = df['message']\n",
    "y = df[df.columns.tolist()[4:]]\n",
    "\n",
    "X = X.drop(y[y.isnull().any(axis = 1)].index.values.tolist())\n",
    "y = y.dropna()\n",
    "\n",
    "for col in y.columns:\n",
    "    if len(y[col].unique()) <2:\n",
    "        y = y.drop(col, axis = 1)\n",
    "\n",
    "y_columns = y.columns\n",
    "\n",
    "y = y.to_numpy()\n",
    "X = X.to_numpy()\n",
    "\n",
    "X_train, X_test, y_train, y_test = train_test_split(X, y,random_state = 2, test_size = 0.2)"
   ]
  }
 ],
 "metadata": {
  "interpreter": {
   "hash": "68d6675afada8f551ae3d86814570bf4aa896d1e4f9fae3ad691776650f03ad1"
  },
  "kernelspec": {
   "display_name": "Python 3.9.9 64-bit ('.venv': venv)",
   "language": "python",
   "name": "python3"
  },
  "language_info": {
   "name": "python",
   "version": "3.9.9"
  },
  "orig_nbformat": 4
 },
 "nbformat": 4,
 "nbformat_minor": 2
}
